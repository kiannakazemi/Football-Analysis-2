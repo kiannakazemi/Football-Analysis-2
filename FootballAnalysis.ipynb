{
  "nbformat": 4,
  "nbformat_minor": 0,
  "metadata": {
    "colab": {
      "name": "FootballAnalysis.ipynb",
      "provenance": [],
      "collapsed_sections": [],
      "include_colab_link": true
    },
    "kernelspec": {
      "name": "python3",
      "display_name": "Python 3"
    },
    "language_info": {
      "name": "python"
    }
  },
  "cells": [
    {
      "cell_type": "markdown",
      "metadata": {
        "id": "view-in-github",
        "colab_type": "text"
      },
      "source": [
        "<a href=\"https://colab.research.google.com/github/kiannakazemi/Football-Analysis-2/blob/main/FootballAnalysis.ipynb\" target=\"_parent\"><img src=\"https://colab.research.google.com/assets/colab-badge.svg\" alt=\"Open In Colab\"/></a>"
      ]
    },
    {
      "cell_type": "markdown",
      "source": [
        "Install line_profiler package."
      ],
      "metadata": {
        "id": "sCR9pvuCzdSh"
      }
    },
    {
      "cell_type": "code",
      "source": [
        "pip install memory_profiler"
      ],
      "metadata": {
        "id": "C7idh_dJeDu-"
      },
      "execution_count": null,
      "outputs": []
    },
    {
      "cell_type": "markdown",
      "source": [
        "Import necessary libraries."
      ],
      "metadata": {
        "id": "_IX2MN_Vepcb"
      }
    },
    {
      "cell_type": "code",
      "source": [
        "import csv\n",
        "import itertools\n",
        "from csv import reader\n",
        "from functools import reduce\n",
        "%load_ext memory_profiler"
      ],
      "metadata": {
        "id": "4eRUoWtlHZ9m"
      },
      "execution_count": null,
      "outputs": []
    },
    {
      "cell_type": "markdown",
      "source": [
        "Reading the data using generators."
      ],
      "metadata": {
        "id": "bMg_4u-Yn-kk"
      }
    },
    {
      "cell_type": "code",
      "source": [
        "csv_gen = (row for row in open('results.csv', 'r',encoding = 'utf-8'))"
      ],
      "metadata": {
        "id": "qKqgijr3oA_6"
      },
      "execution_count": null,
      "outputs": []
    },
    {
      "cell_type": "markdown",
      "source": [
        "The convert function reads the data using generators, and then using the zip function aggregates the iterable elements.\n",
        "\n"
      ],
      "metadata": {
        "id": "SsiC7W19N8HR"
      }
    },
    {
      "cell_type": "code",
      "source": [
        "def convert(file_name):\n",
        "  csv_gen = (row for row in open(file_name, 'r',encoding = 'utf-8'))\n",
        "  keys=['date','home_team','away_team','home_score','away_score','tournament','city','country','neutral']\n",
        "  values = csv.reader(csv_gen)\n",
        "  next(values)\n",
        "  result = [dict(zip(keys, val)) for val in values]\n",
        "  return result\n",
        "#convert(\"results.csv\")"
      ],
      "metadata": {
        "id": "9W2ilsu5gtSY"
      },
      "execution_count": null,
      "outputs": []
    },
    {
      "cell_type": "markdown",
      "source": [
        "The sum_goal_with_gen function adds the sum of goals scored by Poland as home_team and sum of goals scored by Poland as away_team in all World Cup matches."
      ],
      "metadata": {
        "id": "_0ItKLg0D7pf"
      }
    },
    {
      "cell_type": "code",
      "source": [
        "def add_number(n1 , n2):\n",
        "  sum = n1 + n2\n",
        "  return sum\n",
        "\n",
        "def sum_goal_with_gen(file_name):\n",
        "  read_file = convert('results.csv')\n",
        "  tourn = list(filter(lambda x: x['tournament'] == \"FIFA World Cup\" , read_file))\n",
        "  home = list(map(int,[row['home_score'] for row in tourn if row['home_team']=='Poland']))\n",
        "  away = list(map(int,[row['away_score'] for row in tourn if row['away_team']=='Poland']))\n",
        "  home_goal = reduce(add_number, home)\n",
        "  away_goal = reduce(add_number, away)\n",
        "  result = home_goal + away_goal\n",
        "  return result\n",
        "\n",
        "print(\"The total sum of goals scored by Poland in all World Cup matches is: \", sum_goal_with_gen('results.csv'))"
      ],
      "metadata": {
        "colab": {
          "base_uri": "https://localhost:8080/"
        },
        "id": "S68Iw0NRD7-w",
        "outputId": "33218398-369c-42e1-a42e-168c12db0579"
      },
      "execution_count": null,
      "outputs": [
        {
          "output_type": "stream",
          "name": "stdout",
          "text": [
            "The total sum of goals scored by Poland in all World Cup matches is:  46\n"
          ]
        }
      ]
    },
    {
      "cell_type": "markdown",
      "source": [
        "I used %memit to analyze memory usage.\n"
      ],
      "metadata": {
        "id": "v1EtQKJ_lqhx"
      }
    },
    {
      "cell_type": "code",
      "source": [
        "%memit sum_goal_with_gen('results.csv')"
      ],
      "metadata": {
        "colab": {
          "base_uri": "https://localhost:8080/"
        },
        "id": "rE4m1Njkg7D2",
        "outputId": "7cde95ec-2a1e-40f0-ce3a-c90655f81f36"
      },
      "execution_count": null,
      "outputs": [
        {
          "output_type": "stream",
          "name": "stdout",
          "text": [
            "peak memory: 151.62 MiB, increment: 35.10 MiB\n"
          ]
        }
      ]
    },
    {
      "cell_type": "code",
      "source": [
        "%timeit sum_goal_with_gen('results.csv')"
      ],
      "metadata": {
        "colab": {
          "base_uri": "https://localhost:8080/"
        },
        "id": "4WM6FCyum8_t",
        "outputId": "02037ced-92ae-4b73-eaf5-43f0c18c958b"
      },
      "execution_count": null,
      "outputs": [
        {
          "output_type": "stream",
          "name": "stdout",
          "text": [
            "10 loops, best of 5: 143 ms per loop\n"
          ]
        }
      ]
    },
    {
      "cell_type": "markdown",
      "source": [
        "The sum_goal_without_gen function also calculates the total sum of goals scored by Poland in all FIFA World Cup matches. \n",
        "This function is without generators to see memory usage."
      ],
      "metadata": {
        "id": "VjTBbFoVPzM4"
      }
    },
    {
      "cell_type": "code",
      "source": [
        "def sum_goal_without_gen(file_name):\n",
        "  read_file = convert('results.csv')\n",
        "  tourn = filter(lambda x: x['tournament'] == \"FIFA World Cup\" , read_file)\n",
        "  count = 0\n",
        "  for row in tourn:\n",
        "    if row['home_team'] == 'Poland':\n",
        "      count = count + int(row['home_score'])\n",
        "    if row['away_team'] == 'Poland':\n",
        "      count = count + int(row['away_score'])\n",
        "  return count\n",
        "\n",
        "print(\"The total sum of goals scored by Poland in all World Cup matches is: \", sum_goal_without_gen('results.csv'))"
      ],
      "metadata": {
        "colab": {
          "base_uri": "https://localhost:8080/"
        },
        "id": "TxWRj5i2ZZVL",
        "outputId": "d127bae8-6877-4349-88cd-d47568f8618a"
      },
      "execution_count": null,
      "outputs": [
        {
          "output_type": "stream",
          "name": "stdout",
          "text": [
            "The total sum of goals scored by Poland in all World Cup matches is:  46\n"
          ]
        }
      ]
    },
    {
      "cell_type": "markdown",
      "source": [
        "I used %memit to analyze memory usage."
      ],
      "metadata": {
        "id": "iwj_LVHKt0E2"
      }
    },
    {
      "cell_type": "code",
      "source": [
        "%memit sum_goal_without_gen('results.csv')"
      ],
      "metadata": {
        "colab": {
          "base_uri": "https://localhost:8080/"
        },
        "id": "fiDq1DXMhExu",
        "outputId": "35b34892-4b6d-4c67-f639-1160a2660696"
      },
      "execution_count": null,
      "outputs": [
        {
          "output_type": "stream",
          "name": "stdout",
          "text": [
            "peak memory: 152.02 MiB, increment: 25.02 MiB\n"
          ]
        }
      ]
    },
    {
      "cell_type": "code",
      "source": [
        "%timeit sum_goal_without_gen('results.csv')"
      ],
      "metadata": {
        "colab": {
          "base_uri": "https://localhost:8080/"
        },
        "id": "-HUWai56nZyx",
        "outputId": "211c46a9-6e41-41d9-f1b7-7b74c3f6fcaf"
      },
      "execution_count": null,
      "outputs": [
        {
          "output_type": "stream",
          "name": "stdout",
          "text": [
            "10 loops, best of 5: 142 ms per loop\n"
          ]
        }
      ]
    }
  ]
}